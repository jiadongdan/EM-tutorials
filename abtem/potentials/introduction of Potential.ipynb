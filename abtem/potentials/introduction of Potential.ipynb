{
 "cells": [
  {
   "metadata": {},
   "cell_type": "markdown",
   "source": "# Introduction of `LobatoParametrization`",
   "id": "c10bf959d47e4449"
  },
  {
   "cell_type": "code",
   "id": "initial_id",
   "metadata": {
    "collapsed": true,
    "ExecuteTime": {
     "end_time": "2024-09-11T10:32:30.942316Z",
     "start_time": "2024-09-11T10:32:30.929358Z"
    }
   },
   "source": [
    "%matplotlib inline\n",
    "import numpy as np\n",
    "import matplotlib.pyplot as plt\n",
    "from abtem.parametrizations import LobatoParametrization"
   ],
   "outputs": [],
   "execution_count": 54
  },
  {
   "metadata": {
    "ExecuteTime": {
     "end_time": "2024-09-11T10:29:27.683040Z",
     "start_time": "2024-09-11T10:29:27.658480Z"
    }
   },
   "cell_type": "code",
   "source": [
    "# Change to other chemical elements\n",
    "symbols = [\"O\", \"S\", \"Cr\", \"Mo\", \"W\"]\n",
    "\n",
    "# create LabatoParametrization instance\n",
    "parametrization = LobatoParametrization()\n",
    "\n",
    "# potentials is an abtem RealSpaceLineProfiles instance\n",
    "# this is a collection of potential lines\n",
    "cutoff = 2 # unit is Angstrom\n",
    "potentials = parametrization.line_profiles(symbols, cutoff=cutoff, name=\"potential\")\n",
    "\n",
    "# RealSpaceLineProfiles can convert to numpy array\n",
    "potentials_arr = potentials.array"
   ],
   "id": "ec3e3023e0a143e4",
   "outputs": [],
   "execution_count": 49
  },
  {
   "metadata": {
    "ExecuteTime": {
     "end_time": "2024-09-11T10:31:27.364438Z",
     "start_time": "2024-09-11T10:31:27.185431Z"
    }
   },
   "cell_type": "code",
   "source": [
    "# Both method of RealSpaceLineProfiles and matplotlib can plot potentials\n",
    "fig, (ax1, ax2) = plt.subplots(1, 2, figsize=(11, 4))\n",
    "visualization = potentials.show(ax=ax1, legend=False)\n",
    "visualization.set_ylim([-1e2, 2e3])\n",
    "ax1.set_title('Plot by RealSpaceLineProfiles')\n",
    "\n",
    "r = np.linspace(0,cutoff,potentials_arr.shape[1])\n",
    "for i in range(len(symbols)):\n",
    "    ax2.plot(r,potentials_arr[i],label = symbols[i])\n",
    "# ax2.legend().get_frame().set_alpha(0.0)\n",
    "ax2.legend(frameon=False)\n",
    "ax2.set_ylabel(\"Potential [eV/e]\")\n",
    "ax2.set_xlabel(\"r[Å]\")\n",
    "ax2.set_ylim([-1e2, 2e3])\n",
    "ax2.set_title('Plot by Matplotlib')"
   ],
   "id": "e547b05fa49a3b67",
   "outputs": [
    {
     "data": {
      "text/plain": [
       "Text(0.5, 1.0, 'Plot by Matplotlib')"
      ]
     },
     "execution_count": 52,
     "metadata": {},
     "output_type": "execute_result"
    }
   ],
   "execution_count": 52
  },
  {
   "metadata": {},
   "cell_type": "code",
   "outputs": [],
   "execution_count": null,
   "source": "",
   "id": "a29aa2690728b05a"
  }
 ],
 "metadata": {
  "kernelspec": {
   "display_name": "Python 3",
   "language": "python",
   "name": "python3"
  },
  "language_info": {
   "codemirror_mode": {
    "name": "ipython",
    "version": 2
   },
   "file_extension": ".py",
   "mimetype": "text/x-python",
   "name": "python",
   "nbconvert_exporter": "python",
   "pygments_lexer": "ipython2",
   "version": "2.7.6"
  }
 },
 "nbformat": 4,
 "nbformat_minor": 5
}
