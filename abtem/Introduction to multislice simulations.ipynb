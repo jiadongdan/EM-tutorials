{
 "cells": [
  {
   "cell_type": "code",
   "execution_count": null,
   "id": "initial_id",
   "metadata": {
    "collapsed": true
   },
   "outputs": [],
   "source": [
    "import numpy as np\n",
    "from sklearn.mixture import GaussianMixture\n",
    "\n",
    "# Assume X is your data and y are your ground truth labels (0 or 1)\n",
    "X = np.array([...])  # Replace with your data\n",
    "y = np.array([...])  # Replace with your ground truth labels\n",
    "\n",
    "# Split the data into the two classes\n",
    "X_class0 = X[y == 0]\n",
    "X_class1 = X[y == 1]\n",
    "\n",
    "# Initialize the GaussianMixture model with 2 components\n",
    "gmm = GaussianMixture(n_components=2, covariance_type='full')\n",
    "\n",
    "# Manually set the parameters based on the ground truth\n",
    "gmm.means_ = np.array([X_class0.mean(axis=0), X_class1.mean(axis=0)])\n",
    "gmm.covariances_ = np.array([np.cov(X_class0, rowvar=False), np.cov(X_class1, rowvar=False)])\n",
    "gmm.weights_ = np.array([len(X_class0) / len(X), len(X_class1) / len(X)])\n",
    "\n",
    "# Compute the precision matrices (inverse of covariance matrices)\n",
    "gmm.precisions_cholesky_ = np.linalg.cholesky(np.linalg.inv(gmm.covariances_))\n",
    "\n",
    "# Calculate the log-likelihood of each sample\n",
    "log_likelihood = gmm.score_samples(X)\n",
    "\n",
    "# The total log-likelihood is the sum of log_likelihoods of all samples\n",
    "total_log_likelihood = np.sum(log_likelihood)\n",
    "\n",
    "print(\"Total Log-Likelihood:\", total_log_likelihood)\n"
   ]
  }
 ],
 "metadata": {
  "kernelspec": {
   "display_name": "Python 3",
   "language": "python",
   "name": "python3"
  },
  "language_info": {
   "codemirror_mode": {
    "name": "ipython",
    "version": 2
   },
   "file_extension": ".py",
   "mimetype": "text/x-python",
   "name": "python",
   "nbconvert_exporter": "python",
   "pygments_lexer": "ipython2",
   "version": "2.7.6"
  }
 },
 "nbformat": 4,
 "nbformat_minor": 5
}
